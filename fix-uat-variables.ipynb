{
 "cells": [
  {
   "cell_type": "markdown",
   "metadata": {
    "toc": true
   },
   "source": [
    "<h1>Table of Contents<span class=\"tocSkip\"></span></h1>\n",
    "<div class=\"toc\"><ul class=\"toc-item\"><li><span><a href=\"#A-micro-workflow-to-batch-update-CMR-records-(C,-G,-or-V).\" data-toc-modified-id=\"A-micro-workflow-to-batch-update-CMR-records-(C,-G,-or-V).-1\"><span class=\"toc-item-num\">1&nbsp;&nbsp;</span>A micro workflow to batch update CMR records (C, G, or V).</a></span></li><li><span><a href=\"#The-main-step-to-batch-fix-any-CMR-records\" data-toc-modified-id=\"The-main-step-to-batch-fix-any-CMR-records-2\"><span class=\"toc-item-num\">2&nbsp;&nbsp;</span>The main step to batch fix any CMR records</a></span></li></ul></div>"
   ]
  },
  {
   "cell_type": "markdown",
   "metadata": {},
   "source": [
    "## A micro workflow to batch update CMR records (C, G, or V)."
   ]
  },
  {
   "cell_type": "code",
   "execution_count": 1,
   "metadata": {
    "ExecuteTime": {
     "end_time": "2020-06-12T22:01:49.425429Z",
     "start_time": "2020-06-12T22:01:49.234179Z"
    },
    "scrolled": true
   },
   "outputs": [],
   "source": [
    "from numpy import nan\n",
    "from json import dumps\n",
    "from os.path import dirname\n",
    "from requests.exceptions import MissingSchema as MissingSchemaError\n",
    "from requests import get\n",
    "from pandas import DataFrame, notnull\n",
    "\n",
    "uat = \"https://cmr.uat.earthdata.nasa.gov/search\"\n",
    "cmr = \"https://cmr.earthdata.nasa.gov/search\""
   ]
  },
  {
   "cell_type": "markdown",
   "metadata": {},
   "source": [
    "The search url to get all POCLOUD variables:"
   ]
  },
  {
   "cell_type": "code",
   "execution_count": 2,
   "metadata": {
    "ExecuteTime": {
     "end_time": "2020-06-12T22:01:49.429525Z",
     "start_time": "2020-06-12T22:01:49.426831Z"
    }
   },
   "outputs": [
    {
     "name": "stdout",
     "output_type": "stream",
     "text": [
      "https://cmr.uat.earthdata.nasa.gov/search/variables.umm_json?provider=POCLOUD&page_size=2000\n"
     ]
    }
   ],
   "source": [
    "url = f\"{uat}/variables.umm_json?provider=POCLOUD&page_size=2000\"\n",
    "print(url)"
   ]
  },
  {
   "cell_type": "markdown",
   "metadata": {},
   "source": [
    "Get ALL variable records for POCLOUD. Print the number of results."
   ]
  },
  {
   "cell_type": "code",
   "execution_count": 3,
   "metadata": {
    "ExecuteTime": {
     "end_time": "2020-06-12T22:01:50.116404Z",
     "start_time": "2020-06-12T22:01:49.431560Z"
    }
   },
   "outputs": [
    {
     "data": {
      "text/plain": [
       "210"
      ]
     },
     "execution_count": 3,
     "metadata": {},
     "output_type": "execute_result"
    }
   ],
   "source": [
    "res = get(url).json()\n",
    "res['hits']"
   ]
  },
  {
   "cell_type": "markdown",
   "metadata": {},
   "source": [
    "Reformat the variable search metadata and the umm metadata into two data frames for convenient processing:"
   ]
  },
  {
   "cell_type": "code",
   "execution_count": 4,
   "metadata": {
    "ExecuteTime": {
     "end_time": "2020-06-12T22:01:50.124029Z",
     "start_time": "2020-06-12T22:01:50.118150Z"
    }
   },
   "outputs": [
    {
     "data": {
      "text/plain": [
       "revision-id                                      3\n",
       "deleted                                      False\n",
       "format           application/vnd.nasa.cmr.umm+json\n",
       "provider-id                                POCLOUD\n",
       "user-id                                   jmcnelis\n",
       "native-id                                    agc_c\n",
       "concept-id                     V1234656554-POCLOUD\n",
       "revision-date                 2020-06-12T21:48:04Z\n",
       "concept-type                              variable\n",
       "Name: 0, dtype: object"
      ]
     },
     "execution_count": 4,
     "metadata": {},
     "output_type": "execute_result"
    }
   ],
   "source": [
    "meta = DataFrame.from_records([r['meta'] for r in res['items']])\n",
    "meta.iloc[0]"
   ]
  },
  {
   "cell_type": "code",
   "execution_count": 5,
   "metadata": {
    "ExecuteTime": {
     "end_time": "2020-06-12T22:01:50.141427Z",
     "start_time": "2020-06-12T22:01:50.125442Z"
    }
   },
   "outputs": [
    {
     "data": {
      "text/html": [
       "<div>\n",
       "<style scoped>\n",
       "    .dataframe tbody tr th:only-of-type {\n",
       "        vertical-align: middle;\n",
       "    }\n",
       "\n",
       "    .dataframe tbody tr th {\n",
       "        vertical-align: top;\n",
       "    }\n",
       "\n",
       "    .dataframe thead th {\n",
       "        text-align: right;\n",
       "    }\n",
       "</style>\n",
       "<table border=\"1\" class=\"dataframe\">\n",
       "  <thead>\n",
       "    <tr style=\"text-align: right;\">\n",
       "      <th></th>\n",
       "      <th>native-id</th>\n",
       "      <th>concept-id</th>\n",
       "      <th>revision-id</th>\n",
       "      <th>revision-date</th>\n",
       "      <th>user-id</th>\n",
       "    </tr>\n",
       "    <tr>\n",
       "      <th>concept-id</th>\n",
       "      <th></th>\n",
       "      <th></th>\n",
       "      <th></th>\n",
       "      <th></th>\n",
       "      <th></th>\n",
       "    </tr>\n",
       "  </thead>\n",
       "  <tbody>\n",
       "    <tr>\n",
       "      <th>V1234656554-POCLOUD</th>\n",
       "      <td>agc_c</td>\n",
       "      <td>V1234656554-POCLOUD</td>\n",
       "      <td>3</td>\n",
       "      <td>2020-06-12T21:48:04Z</td>\n",
       "      <td>jmcnelis</td>\n",
       "    </tr>\n",
       "    <tr>\n",
       "      <th>V1234656555-POCLOUD</th>\n",
       "      <td>agc_ku</td>\n",
       "      <td>V1234656555-POCLOUD</td>\n",
       "      <td>2</td>\n",
       "      <td>2020-06-12T21:48:30Z</td>\n",
       "      <td>jmcnelis</td>\n",
       "    </tr>\n",
       "    <tr>\n",
       "      <th>V1234656556-POCLOUD</th>\n",
       "      <td>agc_numval_c</td>\n",
       "      <td>V1234656556-POCLOUD</td>\n",
       "      <td>2</td>\n",
       "      <td>2020-06-12T21:48:31Z</td>\n",
       "      <td>jmcnelis</td>\n",
       "    </tr>\n",
       "    <tr>\n",
       "      <th>V1234656557-POCLOUD</th>\n",
       "      <td>agc_numval_ku</td>\n",
       "      <td>V1234656557-POCLOUD</td>\n",
       "      <td>2</td>\n",
       "      <td>2020-06-12T21:48:31Z</td>\n",
       "      <td>jmcnelis</td>\n",
       "    </tr>\n",
       "    <tr>\n",
       "      <th>V1234656558-POCLOUD</th>\n",
       "      <td>agc_rms_c</td>\n",
       "      <td>V1234656558-POCLOUD</td>\n",
       "      <td>2</td>\n",
       "      <td>2020-06-12T21:48:31Z</td>\n",
       "      <td>jmcnelis</td>\n",
       "    </tr>\n",
       "    <tr>\n",
       "      <th>...</th>\n",
       "      <td>...</td>\n",
       "      <td>...</td>\n",
       "      <td>...</td>\n",
       "      <td>...</td>\n",
       "      <td>...</td>\n",
       "    </tr>\n",
       "    <tr>\n",
       "      <th>V1234656688-POCLOUD</th>\n",
       "      <td>wind_speed_model_u_era</td>\n",
       "      <td>V1234656688-POCLOUD</td>\n",
       "      <td>2</td>\n",
       "      <td>2020-06-12T21:50:04Z</td>\n",
       "      <td>jmcnelis</td>\n",
       "    </tr>\n",
       "    <tr>\n",
       "      <th>V1234656689-POCLOUD</th>\n",
       "      <td>wind_speed_model_v</td>\n",
       "      <td>V1234656689-POCLOUD</td>\n",
       "      <td>2</td>\n",
       "      <td>2020-06-12T21:50:05Z</td>\n",
       "      <td>jmcnelis</td>\n",
       "    </tr>\n",
       "    <tr>\n",
       "      <th>V1234656690-POCLOUD</th>\n",
       "      <td>wind_speed_model_v_era</td>\n",
       "      <td>V1234656690-POCLOUD</td>\n",
       "      <td>2</td>\n",
       "      <td>2020-06-12T21:50:05Z</td>\n",
       "      <td>jmcnelis</td>\n",
       "    </tr>\n",
       "    <tr>\n",
       "      <th>V1234656691-POCLOUD</th>\n",
       "      <td>wind_speed_rad</td>\n",
       "      <td>V1234656691-POCLOUD</td>\n",
       "      <td>2</td>\n",
       "      <td>2020-06-12T21:50:06Z</td>\n",
       "      <td>jmcnelis</td>\n",
       "    </tr>\n",
       "    <tr>\n",
       "      <th>V1234656692-POCLOUD</th>\n",
       "      <td>wvf_ind</td>\n",
       "      <td>V1234656692-POCLOUD</td>\n",
       "      <td>2</td>\n",
       "      <td>2020-06-12T21:50:06Z</td>\n",
       "      <td>jmcnelis</td>\n",
       "    </tr>\n",
       "  </tbody>\n",
       "</table>\n",
       "<p>210 rows × 5 columns</p>\n",
       "</div>"
      ],
      "text/plain": [
       "                                  native-id           concept-id  revision-id  \\\n",
       "concept-id                                                                      \n",
       "V1234656554-POCLOUD                   agc_c  V1234656554-POCLOUD            3   \n",
       "V1234656555-POCLOUD                  agc_ku  V1234656555-POCLOUD            2   \n",
       "V1234656556-POCLOUD            agc_numval_c  V1234656556-POCLOUD            2   \n",
       "V1234656557-POCLOUD           agc_numval_ku  V1234656557-POCLOUD            2   \n",
       "V1234656558-POCLOUD               agc_rms_c  V1234656558-POCLOUD            2   \n",
       "...                                     ...                  ...          ...   \n",
       "V1234656688-POCLOUD  wind_speed_model_u_era  V1234656688-POCLOUD            2   \n",
       "V1234656689-POCLOUD      wind_speed_model_v  V1234656689-POCLOUD            2   \n",
       "V1234656690-POCLOUD  wind_speed_model_v_era  V1234656690-POCLOUD            2   \n",
       "V1234656691-POCLOUD          wind_speed_rad  V1234656691-POCLOUD            2   \n",
       "V1234656692-POCLOUD                 wvf_ind  V1234656692-POCLOUD            2   \n",
       "\n",
       "                            revision-date   user-id  \n",
       "concept-id                                           \n",
       "V1234656554-POCLOUD  2020-06-12T21:48:04Z  jmcnelis  \n",
       "V1234656555-POCLOUD  2020-06-12T21:48:30Z  jmcnelis  \n",
       "V1234656556-POCLOUD  2020-06-12T21:48:31Z  jmcnelis  \n",
       "V1234656557-POCLOUD  2020-06-12T21:48:31Z  jmcnelis  \n",
       "V1234656558-POCLOUD  2020-06-12T21:48:31Z  jmcnelis  \n",
       "...                                   ...       ...  \n",
       "V1234656688-POCLOUD  2020-06-12T21:50:04Z  jmcnelis  \n",
       "V1234656689-POCLOUD  2020-06-12T21:50:05Z  jmcnelis  \n",
       "V1234656690-POCLOUD  2020-06-12T21:50:05Z  jmcnelis  \n",
       "V1234656691-POCLOUD  2020-06-12T21:50:06Z  jmcnelis  \n",
       "V1234656692-POCLOUD  2020-06-12T21:50:06Z  jmcnelis  \n",
       "\n",
       "[210 rows x 5 columns]"
      ]
     },
     "execution_count": 5,
     "metadata": {},
     "output_type": "execute_result"
    }
   ],
   "source": [
    "def _meta_table(columns: list=list(meta.columns), index: str=\"concept-id\"):\n",
    "    \"\"\"Reindexes the search metadata table and subsets the columns.\"\"\"\n",
    "    return meta[columns].copy().set_index(meta[index])\n",
    "\n",
    "\n",
    "_meta_table([\n",
    "    'native-id',\n",
    "    'concept-id',\n",
    "    'revision-id',\n",
    "    'revision-date',\n",
    "    'user-id',\n",
    "])"
   ]
  },
  {
   "cell_type": "markdown",
   "metadata": {},
   "source": [
    "Make a similar table for the UMM metadata and display the first row:"
   ]
  },
  {
   "cell_type": "code",
   "execution_count": 6,
   "metadata": {
    "ExecuteTime": {
     "end_time": "2020-06-12T22:01:50.151439Z",
     "start_time": "2020-06-12T22:01:50.143223Z"
    }
   },
   "outputs": [
    {
     "data": {
      "text/plain": [
       "VariableType                                              SCIENCE_VARIABLE\n",
       "DataType                                                             int16\n",
       "Offset                                                                   0\n",
       "Scale                                                                 0.01\n",
       "Characteristics          {'GroupPath': '/', 'IndexRanges': {'LatRange':...\n",
       "FillValues                 [{'Value': 32767, 'Type': 'SCIENCE_FILLVALUE'}]\n",
       "Sets                     [{'Name': 'agc_c', 'Type': 'General', 'Size': ...\n",
       "Dimensions               [{'Name': 'time', 'Size': 2240, 'Type': 'TIME_...\n",
       "Definition                                            C band corrected AGC\n",
       "Name                                                                 agc_c\n",
       "AcquisitionSourceName                                      radar altimeter\n",
       "ValidRanges                                [{'Min': -32768, 'Max': 32767}]\n",
       "Units                                                                   dB\n",
       "LongName                                              C band corrected AGC\n",
       "VariableSubType                                                        NaN\n",
       "Name: 0, dtype: object"
      ]
     },
     "execution_count": 6,
     "metadata": {},
     "output_type": "execute_result"
    }
   ],
   "source": [
    "umm = DataFrame.from_records([r['umm'] for r in res['items']])\n",
    "umm.iloc[0]"
   ]
  },
  {
   "cell_type": "markdown",
   "metadata": {},
   "source": [
    "We need to process replacement `GroupPath` fields for all variables (to resolve issues identified by M. Gangl).\n",
    "\n",
    "It's in the `Characteristics` field:"
   ]
  },
  {
   "cell_type": "code",
   "execution_count": 7,
   "metadata": {
    "ExecuteTime": {
     "end_time": "2020-06-12T22:01:50.161038Z",
     "start_time": "2020-06-12T22:01:50.153202Z"
    }
   },
   "outputs": [
    {
     "data": {
      "text/plain": [
       "0      {'GroupPath': '/', 'IndexRanges': {'LatRange':...\n",
       "1      {'GroupPath': '/', 'IndexRanges': {'LatRange':...\n",
       "2      {'GroupPath': '/', 'IndexRanges': {'LatRange':...\n",
       "3      {'GroupPath': '/', 'IndexRanges': {'LatRange':...\n",
       "4      {'GroupPath': '/', 'IndexRanges': {'LatRange':...\n",
       "                             ...                        \n",
       "205    {'GroupPath': '/', 'IndexRanges': {'LatRange':...\n",
       "206    {'GroupPath': '/', 'IndexRanges': {'LatRange':...\n",
       "207    {'GroupPath': '/', 'IndexRanges': {'LatRange':...\n",
       "208    {'GroupPath': '/', 'IndexRanges': {'LatRange':...\n",
       "209    {'GroupPath': '/', 'IndexRanges': {'LatRange':...\n",
       "Name: Characteristics, Length: 210, dtype: object"
      ]
     },
     "execution_count": 7,
     "metadata": {},
     "output_type": "execute_result"
    }
   ],
   "source": [
    "umm.Characteristics"
   ]
  },
  {
   "cell_type": "markdown",
   "metadata": {},
   "source": [
    "## The main step to batch fix any CMR records\n",
    "\n",
    "*Just define a simple function to replace the bad metadata in place.*\n",
    "\n",
    "Apply a simple lambda over that column to remove the trailing variable names:"
   ]
  },
  {
   "cell_type": "code",
   "execution_count": 8,
   "metadata": {
    "ExecuteTime": {
     "end_time": "2020-06-12T22:01:50.191349Z",
     "start_time": "2020-06-12T22:01:50.164249Z"
    }
   },
   "outputs": [
    {
     "data": {
      "text/html": [
       "<div>\n",
       "<style scoped>\n",
       "    .dataframe tbody tr th:only-of-type {\n",
       "        vertical-align: middle;\n",
       "    }\n",
       "\n",
       "    .dataframe tbody tr th {\n",
       "        vertical-align: top;\n",
       "    }\n",
       "\n",
       "    .dataframe thead th {\n",
       "        text-align: right;\n",
       "    }\n",
       "</style>\n",
       "<table border=\"1\" class=\"dataframe\">\n",
       "  <thead>\n",
       "    <tr style=\"text-align: right;\">\n",
       "      <th></th>\n",
       "      <th>VariableType</th>\n",
       "      <th>DataType</th>\n",
       "      <th>Offset</th>\n",
       "      <th>Scale</th>\n",
       "      <th>Characteristics</th>\n",
       "      <th>FillValues</th>\n",
       "      <th>Sets</th>\n",
       "      <th>Dimensions</th>\n",
       "      <th>Definition</th>\n",
       "      <th>Name</th>\n",
       "      <th>AcquisitionSourceName</th>\n",
       "      <th>ValidRanges</th>\n",
       "      <th>Units</th>\n",
       "      <th>LongName</th>\n",
       "      <th>VariableSubType</th>\n",
       "    </tr>\n",
       "  </thead>\n",
       "  <tbody>\n",
       "    <tr>\n",
       "      <th>0</th>\n",
       "      <td>SCIENCE_VARIABLE</td>\n",
       "      <td>int16</td>\n",
       "      <td>0.0</td>\n",
       "      <td>0.01</td>\n",
       "      <td>{'GroupPath': '/', 'IndexRanges': {'LatRange':...</td>\n",
       "      <td>[{'Value': 32767, 'Type': 'SCIENCE_FILLVALUE'}]</td>\n",
       "      <td>[{'Name': 'agc_c', 'Type': 'General', 'Size': ...</td>\n",
       "      <td>[{'Name': 'time', 'Size': 2240, 'Type': 'TIME_...</td>\n",
       "      <td>C band corrected AGC</td>\n",
       "      <td>agc_c</td>\n",
       "      <td>radar altimeter</td>\n",
       "      <td>[{'Min': -32768, 'Max': 32767}]</td>\n",
       "      <td>dB</td>\n",
       "      <td>C band corrected AGC</td>\n",
       "      <td>NaN</td>\n",
       "    </tr>\n",
       "    <tr>\n",
       "      <th>1</th>\n",
       "      <td>SCIENCE_VARIABLE</td>\n",
       "      <td>int16</td>\n",
       "      <td>0.0</td>\n",
       "      <td>0.01</td>\n",
       "      <td>{'GroupPath': '/', 'IndexRanges': {'LatRange':...</td>\n",
       "      <td>[{'Value': 32767, 'Type': 'SCIENCE_FILLVALUE'}]</td>\n",
       "      <td>[{'Name': 'agc_ku', 'Type': 'General', 'Size':...</td>\n",
       "      <td>[{'Name': 'time', 'Size': 2240, 'Type': 'TIME_...</td>\n",
       "      <td>Ku band corrected AGC</td>\n",
       "      <td>agc_ku</td>\n",
       "      <td>radar altimeter</td>\n",
       "      <td>[{'Min': -32768, 'Max': 32767}]</td>\n",
       "      <td>dB</td>\n",
       "      <td>Ku band corrected AGC</td>\n",
       "      <td>NaN</td>\n",
       "    </tr>\n",
       "    <tr>\n",
       "      <th>2</th>\n",
       "      <td>SCIENCE_VARIABLE</td>\n",
       "      <td>int16</td>\n",
       "      <td>0.0</td>\n",
       "      <td>1.00</td>\n",
       "      <td>{'GroupPath': '/', 'IndexRanges': {'LatRange':...</td>\n",
       "      <td>[{'Value': 127, 'Type': 'SCIENCE_FILLVALUE'}]</td>\n",
       "      <td>[{'Name': 'agc_numval_c', 'Type': 'General', '...</td>\n",
       "      <td>[{'Name': 'time', 'Size': 2240, 'Type': 'TIME_...</td>\n",
       "      <td>number of valid points used to compute C band AGC</td>\n",
       "      <td>agc_numval_c</td>\n",
       "      <td>radar altimeter</td>\n",
       "      <td>[{'Min': 0, 'Max': 20}]</td>\n",
       "      <td>count</td>\n",
       "      <td>number of valid points used to compute C band AGC</td>\n",
       "      <td>NaN</td>\n",
       "    </tr>\n",
       "    <tr>\n",
       "      <th>3</th>\n",
       "      <td>SCIENCE_VARIABLE</td>\n",
       "      <td>int16</td>\n",
       "      <td>0.0</td>\n",
       "      <td>1.00</td>\n",
       "      <td>{'GroupPath': '/', 'IndexRanges': {'LatRange':...</td>\n",
       "      <td>[{'Value': 127, 'Type': 'SCIENCE_FILLVALUE'}]</td>\n",
       "      <td>[{'Name': 'agc_numval_ku', 'Type': 'General', ...</td>\n",
       "      <td>[{'Name': 'time', 'Size': 2240, 'Type': 'TIME_...</td>\n",
       "      <td>number of valid points used to compute Ku band...</td>\n",
       "      <td>agc_numval_ku</td>\n",
       "      <td>radar altimeter</td>\n",
       "      <td>[{'Min': 0, 'Max': 20}]</td>\n",
       "      <td>count</td>\n",
       "      <td>number of valid points used to compute Ku band...</td>\n",
       "      <td>NaN</td>\n",
       "    </tr>\n",
       "    <tr>\n",
       "      <th>4</th>\n",
       "      <td>SCIENCE_VARIABLE</td>\n",
       "      <td>int16</td>\n",
       "      <td>0.0</td>\n",
       "      <td>0.01</td>\n",
       "      <td>{'GroupPath': '/', 'IndexRanges': {'LatRange':...</td>\n",
       "      <td>[{'Value': 32767, 'Type': 'SCIENCE_FILLVALUE'}]</td>\n",
       "      <td>[{'Name': 'agc_rms_c', 'Type': 'General', 'Siz...</td>\n",
       "      <td>[{'Name': 'time', 'Size': 2240, 'Type': 'TIME_...</td>\n",
       "      <td>RMS of the C band AGC</td>\n",
       "      <td>agc_rms_c</td>\n",
       "      <td>radar altimeter</td>\n",
       "      <td>[{'Min': -32768, 'Max': 32767}]</td>\n",
       "      <td>dB</td>\n",
       "      <td>RMS of the C band AGC</td>\n",
       "      <td>NaN</td>\n",
       "    </tr>\n",
       "  </tbody>\n",
       "</table>\n",
       "</div>"
      ],
      "text/plain": [
       "       VariableType DataType  Offset  Scale  \\\n",
       "0  SCIENCE_VARIABLE    int16     0.0   0.01   \n",
       "1  SCIENCE_VARIABLE    int16     0.0   0.01   \n",
       "2  SCIENCE_VARIABLE    int16     0.0   1.00   \n",
       "3  SCIENCE_VARIABLE    int16     0.0   1.00   \n",
       "4  SCIENCE_VARIABLE    int16     0.0   0.01   \n",
       "\n",
       "                                     Characteristics  \\\n",
       "0  {'GroupPath': '/', 'IndexRanges': {'LatRange':...   \n",
       "1  {'GroupPath': '/', 'IndexRanges': {'LatRange':...   \n",
       "2  {'GroupPath': '/', 'IndexRanges': {'LatRange':...   \n",
       "3  {'GroupPath': '/', 'IndexRanges': {'LatRange':...   \n",
       "4  {'GroupPath': '/', 'IndexRanges': {'LatRange':...   \n",
       "\n",
       "                                        FillValues  \\\n",
       "0  [{'Value': 32767, 'Type': 'SCIENCE_FILLVALUE'}]   \n",
       "1  [{'Value': 32767, 'Type': 'SCIENCE_FILLVALUE'}]   \n",
       "2    [{'Value': 127, 'Type': 'SCIENCE_FILLVALUE'}]   \n",
       "3    [{'Value': 127, 'Type': 'SCIENCE_FILLVALUE'}]   \n",
       "4  [{'Value': 32767, 'Type': 'SCIENCE_FILLVALUE'}]   \n",
       "\n",
       "                                                Sets  \\\n",
       "0  [{'Name': 'agc_c', 'Type': 'General', 'Size': ...   \n",
       "1  [{'Name': 'agc_ku', 'Type': 'General', 'Size':...   \n",
       "2  [{'Name': 'agc_numval_c', 'Type': 'General', '...   \n",
       "3  [{'Name': 'agc_numval_ku', 'Type': 'General', ...   \n",
       "4  [{'Name': 'agc_rms_c', 'Type': 'General', 'Siz...   \n",
       "\n",
       "                                          Dimensions  \\\n",
       "0  [{'Name': 'time', 'Size': 2240, 'Type': 'TIME_...   \n",
       "1  [{'Name': 'time', 'Size': 2240, 'Type': 'TIME_...   \n",
       "2  [{'Name': 'time', 'Size': 2240, 'Type': 'TIME_...   \n",
       "3  [{'Name': 'time', 'Size': 2240, 'Type': 'TIME_...   \n",
       "4  [{'Name': 'time', 'Size': 2240, 'Type': 'TIME_...   \n",
       "\n",
       "                                          Definition           Name  \\\n",
       "0                               C band corrected AGC          agc_c   \n",
       "1                              Ku band corrected AGC         agc_ku   \n",
       "2  number of valid points used to compute C band AGC   agc_numval_c   \n",
       "3  number of valid points used to compute Ku band...  agc_numval_ku   \n",
       "4                              RMS of the C band AGC      agc_rms_c   \n",
       "\n",
       "  AcquisitionSourceName                      ValidRanges  Units  \\\n",
       "0       radar altimeter  [{'Min': -32768, 'Max': 32767}]     dB   \n",
       "1       radar altimeter  [{'Min': -32768, 'Max': 32767}]     dB   \n",
       "2       radar altimeter          [{'Min': 0, 'Max': 20}]  count   \n",
       "3       radar altimeter          [{'Min': 0, 'Max': 20}]  count   \n",
       "4       radar altimeter  [{'Min': -32768, 'Max': 32767}]     dB   \n",
       "\n",
       "                                            LongName VariableSubType  \n",
       "0                               C band corrected AGC             NaN  \n",
       "1                              Ku band corrected AGC             NaN  \n",
       "2  number of valid points used to compute C band AGC             NaN  \n",
       "3  number of valid points used to compute Ku band...             NaN  \n",
       "4                              RMS of the C band AGC             NaN  "
      ]
     },
     "execution_count": 8,
     "metadata": {},
     "output_type": "execute_result"
    }
   ],
   "source": [
    "def _fix_GroupPath(x):\n",
    "    if x is not nan:\n",
    "        p = dirname(x['GroupPath'])\n",
    "    else:\n",
    "        return None\n",
    "    x['GroupPath'] = \"/\" if p==\"\" else p\n",
    "    return x\n",
    "        \n",
    "\n",
    "# Modify and replace the characteristics of all variables to fix GroupPath.\n",
    "umm.Characteristics = umm.Characteristics.apply(lambda x: _fix_GroupPath(x))\n",
    "\n",
    "# Display the first five rows.\n",
    "umm.head()"
   ]
  },
  {
   "cell_type": "markdown",
   "metadata": {},
   "source": [
    "Replace any null values that were converted to NaN back to Python None:"
   ]
  },
  {
   "cell_type": "code",
   "execution_count": 9,
   "metadata": {
    "ExecuteTime": {
     "end_time": "2020-06-12T22:01:50.201026Z",
     "start_time": "2020-06-12T22:01:50.193323Z"
    }
   },
   "outputs": [],
   "source": [
    "umm = umm.where(notnull(umm), None)"
   ]
  },
  {
   "cell_type": "markdown",
   "metadata": {
    "ExecuteTime": {
     "end_time": "2020-06-12T21:29:08.677168Z",
     "start_time": "2020-06-12T21:29:08.646783Z"
    }
   },
   "source": [
    "Notice the updated `GroupPath` for all records.\n",
    "\n",
    "Loop the rows, rebuild the records, and write curl commands to an external script for record keeping:"
   ]
  },
  {
   "cell_type": "code",
   "execution_count": 10,
   "metadata": {
    "ExecuteTime": {
     "end_time": "2020-06-12T22:01:51.441954Z",
     "start_time": "2020-06-12T22:01:50.202643Z"
    }
   },
   "outputs": [],
   "source": [
    "# Get a new CMR token by calling dedicated shell script.\n",
    "TOKEN = !bash /Users/jmcnelis/Configuration/scripts/cmr/get-echo-token.sh\n",
    "TOKEN = TOKEN[0]\n",
    "\n",
    "# Open a shell script for writing.\n",
    "scr = open(\"grouppath-fix.sh\", \"w\")\n",
    "\n",
    "# Write the shebang:\n",
    "scr.write(\"#!/bin/bash\")\n",
    "\n",
    "# Loop the umm metadata table.\n",
    "for ix, row in umm.iterrows():\n",
    "    \n",
    "    # Turn the row back into a dict, dropping Nones:\n",
    "    rec = {k:v for k,v in row.to_dict().items() if v is not None}\n",
    "    \n",
    "    # Write the curl command to a script.\n",
    "    scr.write(f\"\"\"\n",
    "curl -i -XPUT \\\n",
    "-H \"Content-type: application/vnd.nasa.cmr.umm+json\" \\\n",
    "-H \"Echo-Token: {TOKEN}\" \\\n",
    "https://cmr.uat.earthdata.nasa.gov/ingest/providers/POCLOUD/variables/{row.Name} \\\n",
    "--data-binary '{dumps(rec)}'\n",
    "\"\"\")\n",
    "    \n",
    "# Close the script.\n",
    "scr.close()"
   ]
  },
  {
   "cell_type": "code",
   "execution_count": null,
   "metadata": {},
   "outputs": [],
   "source": []
  }
 ],
 "metadata": {
  "kernelspec": {
   "display_name": "Python 3.8.2 64-bit ('geo': conda)",
   "language": "python",
   "name": "python38264bitgeoconda68469ab7a3c44e969080e19c63965fc7"
  },
  "language_info": {
   "codemirror_mode": {
    "name": "ipython",
    "version": 3
   },
   "file_extension": ".py",
   "mimetype": "text/x-python",
   "name": "python",
   "nbconvert_exporter": "python",
   "pygments_lexer": "ipython3",
   "version": "3.8.2"
  },
  "toc": {
   "base_numbering": 1,
   "nav_menu": {},
   "number_sections": true,
   "sideBar": true,
   "skip_h1_title": true,
   "title_cell": "Table of Contents",
   "title_sidebar": "Contents",
   "toc_cell": true,
   "toc_position": {},
   "toc_section_display": true,
   "toc_window_display": true
  }
 },
 "nbformat": 4,
 "nbformat_minor": 4
}
